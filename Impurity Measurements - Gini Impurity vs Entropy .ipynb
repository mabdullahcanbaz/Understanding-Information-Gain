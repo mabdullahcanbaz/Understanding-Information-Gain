{
 "cells": [
  {
   "cell_type": "markdown",
   "id": "a62d42ca",
   "metadata": {},
   "source": [
    "1- Gini’s maximum impurity is 0.5 and maximum purity is 0\n",
    "\n",
    "2- Entropy’s maximum impurity is 1 and maximum purity is 0\n",
    "\n",
    "3- Different decision tree algorithms utilize different impurity metrics: CART uses Gini; ID3 and C4.5 use Entropy. This is worth looking into before you use decision trees /random forests in your model."
   ]
  },
  {
   "cell_type": "markdown",
   "id": "7fb16a94",
   "metadata": {},
   "source": [
    "# Gini Impurity"
   ]
  },
  {
   "cell_type": "code",
   "execution_count": 32,
   "id": "fe4dceaf",
   "metadata": {},
   "outputs": [],
   "source": [
    "#Gini Function\n",
    "#a and b are the quantities of each class\n",
    "def gini(a,b):\n",
    "    a1 = (a/(a+b))**2\n",
    "    b1 = (b/(a+b))**2\n",
    "    return 1 - (a1 + b1)"
   ]
  },
  {
   "cell_type": "code",
   "execution_count": 33,
   "id": "3115a396",
   "metadata": {},
   "outputs": [],
   "source": [
    "import random"
   ]
  },
  {
   "cell_type": "code",
   "execution_count": 34,
   "id": "27c96111",
   "metadata": {},
   "outputs": [],
   "source": [
    "#Blank lists\n",
    "gini_list = []\n",
    "blue_list = []\n",
    "red_list = []\n",
    "blue_prob_list = []\n",
    "#Looping Gini function on random blue and red float amounts\n",
    "for x in range (10000):\n",
    " blue = random.uniform(0, 4)\n",
    " red = abs(4-blue)\n",
    " a = gini(red,blue)\n",
    " b = blue/(blue+red)\n",
    " gini_list.append(a)\n",
    " blue_list.append(blue)\n",
    " red_list.append(red)\n",
    " blue_prob_list.append(b)\n"
   ]
  },
  {
   "cell_type": "code",
   "execution_count": 35,
   "id": "2720b385",
   "metadata": {},
   "outputs": [],
   "source": [
    "import pandas as pd"
   ]
  },
  {
   "cell_type": "code",
   "execution_count": 36,
   "id": "3fbfd187",
   "metadata": {},
   "outputs": [
    {
     "data": {
      "text/html": [
       "<div>\n",
       "<style scoped>\n",
       "    .dataframe tbody tr th:only-of-type {\n",
       "        vertical-align: middle;\n",
       "    }\n",
       "\n",
       "    .dataframe tbody tr th {\n",
       "        vertical-align: top;\n",
       "    }\n",
       "\n",
       "    .dataframe thead th {\n",
       "        text-align: right;\n",
       "    }\n",
       "</style>\n",
       "<table border=\"1\" class=\"dataframe\">\n",
       "  <thead>\n",
       "    <tr style=\"text-align: right;\">\n",
       "      <th></th>\n",
       "      <th>Red</th>\n",
       "      <th>Blue</th>\n",
       "      <th>Probability of Blue</th>\n",
       "      <th>Gini Score</th>\n",
       "    </tr>\n",
       "  </thead>\n",
       "  <tbody>\n",
       "    <tr>\n",
       "      <th>0</th>\n",
       "      <td>3.398165</td>\n",
       "      <td>0.601835</td>\n",
       "      <td>0.150459</td>\n",
       "      <td>0.255642</td>\n",
       "    </tr>\n",
       "    <tr>\n",
       "      <th>1</th>\n",
       "      <td>1.484089</td>\n",
       "      <td>2.515911</td>\n",
       "      <td>0.628978</td>\n",
       "      <td>0.466730</td>\n",
       "    </tr>\n",
       "    <tr>\n",
       "      <th>2</th>\n",
       "      <td>0.088875</td>\n",
       "      <td>3.911125</td>\n",
       "      <td>0.977781</td>\n",
       "      <td>0.043450</td>\n",
       "    </tr>\n",
       "    <tr>\n",
       "      <th>3</th>\n",
       "      <td>1.679418</td>\n",
       "      <td>2.320582</td>\n",
       "      <td>0.580146</td>\n",
       "      <td>0.487153</td>\n",
       "    </tr>\n",
       "    <tr>\n",
       "      <th>4</th>\n",
       "      <td>0.245333</td>\n",
       "      <td>3.754667</td>\n",
       "      <td>0.938667</td>\n",
       "      <td>0.115143</td>\n",
       "    </tr>\n",
       "    <tr>\n",
       "      <th>...</th>\n",
       "      <td>...</td>\n",
       "      <td>...</td>\n",
       "      <td>...</td>\n",
       "      <td>...</td>\n",
       "    </tr>\n",
       "    <tr>\n",
       "      <th>9995</th>\n",
       "      <td>1.838968</td>\n",
       "      <td>2.161032</td>\n",
       "      <td>0.540258</td>\n",
       "      <td>0.496759</td>\n",
       "    </tr>\n",
       "    <tr>\n",
       "      <th>9996</th>\n",
       "      <td>1.208394</td>\n",
       "      <td>2.791606</td>\n",
       "      <td>0.697901</td>\n",
       "      <td>0.421670</td>\n",
       "    </tr>\n",
       "    <tr>\n",
       "      <th>9997</th>\n",
       "      <td>0.741070</td>\n",
       "      <td>3.258930</td>\n",
       "      <td>0.814733</td>\n",
       "      <td>0.301887</td>\n",
       "    </tr>\n",
       "    <tr>\n",
       "      <th>9998</th>\n",
       "      <td>0.400898</td>\n",
       "      <td>3.599102</td>\n",
       "      <td>0.899775</td>\n",
       "      <td>0.180359</td>\n",
       "    </tr>\n",
       "    <tr>\n",
       "      <th>9999</th>\n",
       "      <td>0.883342</td>\n",
       "      <td>3.116658</td>\n",
       "      <td>0.779164</td>\n",
       "      <td>0.344134</td>\n",
       "    </tr>\n",
       "  </tbody>\n",
       "</table>\n",
       "<p>10000 rows × 4 columns</p>\n",
       "</div>"
      ],
      "text/plain": [
       "           Red      Blue  Probability of Blue  Gini Score\n",
       "0     3.398165  0.601835             0.150459    0.255642\n",
       "1     1.484089  2.515911             0.628978    0.466730\n",
       "2     0.088875  3.911125             0.977781    0.043450\n",
       "3     1.679418  2.320582             0.580146    0.487153\n",
       "4     0.245333  3.754667             0.938667    0.115143\n",
       "...        ...       ...                  ...         ...\n",
       "9995  1.838968  2.161032             0.540258    0.496759\n",
       "9996  1.208394  2.791606             0.697901    0.421670\n",
       "9997  0.741070  3.258930             0.814733    0.301887\n",
       "9998  0.400898  3.599102             0.899775    0.180359\n",
       "9999  0.883342  3.116658             0.779164    0.344134\n",
       "\n",
       "[10000 rows x 4 columns]"
      ]
     },
     "execution_count": 36,
     "metadata": {},
     "output_type": "execute_result"
    }
   ],
   "source": [
    "#Dataframe of amount of blue, red, Probability of blue, and gini score\n",
    "df = pd.DataFrame({\"Blue\": blue_list, \"Red\": red_list,\"Gini Score\": gini_list, \"Probability of Blue\": blue_prob_list})\n",
    "df = df[['Red', 'Blue', 'Probability of Blue', 'Gini Score']]\n",
    "df"
   ]
  },
  {
   "cell_type": "code",
   "execution_count": 37,
   "id": "28eb4d32",
   "metadata": {},
   "outputs": [],
   "source": [
    "from matplotlib import pyplot as plt\n",
    "plt.style.use(\"seaborn\")\n"
   ]
  },
  {
   "cell_type": "code",
   "execution_count": 38,
   "id": "276f953d",
   "metadata": {},
   "outputs": [
    {
     "data": {
      "text/plain": [
       "Text(0.5, 1.0, 'Gini Curve')"
      ]
     },
     "execution_count": 38,
     "metadata": {},
     "output_type": "execute_result"
    },
    {
     "data": {
      "image/png": "[encoded data removed]",
      "text/plain": [
       "<Figure size 576x396 with 1 Axes>"
      ]
     },
     "metadata": {},
     "output_type": "display_data"
    }
   ],
   "source": [
    "plt.scatter(blue_prob_list,gini_list)\n",
    "plt.xlabel('Probability of Blue Gumball %')\n",
    "plt.ylabel('Gini')\n",
    "plt.title('Gini Curve')"
   ]
  },
  {
   "cell_type": "markdown",
   "id": "dcd1b54c",
   "metadata": {},
   "source": [
    "# Entropy"
   ]
  },
  {
   "cell_type": "code",
   "execution_count": 39,
   "id": "63ceb337",
   "metadata": {},
   "outputs": [],
   "source": [
    "#Entropy Function\n",
    "#a and b are the quantities of each class. Base is the log base input.\n",
    "def entropy(base,a,b):\n",
    "    try:\n",
    "        var =  abs(((a)/(a+b)) * log(((a)/(a+b)),base)) - (((b)/(a+b)) * log(((b)/(a+b)),base))\n",
    "        return var\n",
    "    except (ValueError):\n",
    "        return 0\n"
   ]
  },
  {
   "cell_type": "code",
   "execution_count": 40,
   "id": "d9c3b861",
   "metadata": {},
   "outputs": [],
   "source": [
    "from math import log\n"
   ]
  },
  {
   "cell_type": "code",
   "execution_count": 41,
   "id": "f2c0fcba",
   "metadata": {},
   "outputs": [],
   "source": [
    "#Blank lists\n",
    "ent_list = []\n",
    "ent_blue_list = []\n",
    "ent_red_list = []\n",
    "ent_blue_prob_list = []\n",
    "#Loop with log base 2\n",
    "for x in range (10000):\n",
    "    blue = random.uniform(0, 4)\n",
    "    red = abs(4-blue)\n",
    "    a = entropy(2,red,blue)\n",
    "    b = blue/(blue+red)\n",
    "    ent_list.append(a)\n",
    "    ent_blue_list.append(blue)\n",
    "    ent_red_list.append(red)\n",
    "    ent_blue_prob_list.append(b)"
   ]
  },
  {
   "cell_type": "code",
   "execution_count": 42,
   "id": "6bcec587",
   "metadata": {},
   "outputs": [
    {
     "data": {
      "text/html": [
       "<div>\n",
       "<style scoped>\n",
       "    .dataframe tbody tr th:only-of-type {\n",
       "        vertical-align: middle;\n",
       "    }\n",
       "\n",
       "    .dataframe tbody tr th {\n",
       "        vertical-align: top;\n",
       "    }\n",
       "\n",
       "    .dataframe thead th {\n",
       "        text-align: right;\n",
       "    }\n",
       "</style>\n",
       "<table border=\"1\" class=\"dataframe\">\n",
       "  <thead>\n",
       "    <tr style=\"text-align: right;\">\n",
       "      <th></th>\n",
       "      <th>Red</th>\n",
       "      <th>Blue</th>\n",
       "      <th>Probability of Blue</th>\n",
       "      <th>Entropy</th>\n",
       "    </tr>\n",
       "  </thead>\n",
       "  <tbody>\n",
       "    <tr>\n",
       "      <th>0</th>\n",
       "      <td>1.038945</td>\n",
       "      <td>2.961055</td>\n",
       "      <td>0.740264</td>\n",
       "      <td>0.826348</td>\n",
       "    </tr>\n",
       "    <tr>\n",
       "      <th>1</th>\n",
       "      <td>1.346895</td>\n",
       "      <td>2.653105</td>\n",
       "      <td>0.663276</td>\n",
       "      <td>0.921649</td>\n",
       "    </tr>\n",
       "    <tr>\n",
       "      <th>2</th>\n",
       "      <td>3.139446</td>\n",
       "      <td>0.860554</td>\n",
       "      <td>0.215138</td>\n",
       "      <td>0.751190</td>\n",
       "    </tr>\n",
       "    <tr>\n",
       "      <th>3</th>\n",
       "      <td>3.798768</td>\n",
       "      <td>0.201232</td>\n",
       "      <td>0.050308</td>\n",
       "      <td>0.287704</td>\n",
       "    </tr>\n",
       "    <tr>\n",
       "      <th>4</th>\n",
       "      <td>1.184125</td>\n",
       "      <td>2.815875</td>\n",
       "      <td>0.703969</td>\n",
       "      <td>0.876385</td>\n",
       "    </tr>\n",
       "    <tr>\n",
       "      <th>...</th>\n",
       "      <td>...</td>\n",
       "      <td>...</td>\n",
       "      <td>...</td>\n",
       "      <td>...</td>\n",
       "    </tr>\n",
       "    <tr>\n",
       "      <th>9995</th>\n",
       "      <td>2.737726</td>\n",
       "      <td>1.262274</td>\n",
       "      <td>0.315568</td>\n",
       "      <td>0.899497</td>\n",
       "    </tr>\n",
       "    <tr>\n",
       "      <th>9996</th>\n",
       "      <td>0.848999</td>\n",
       "      <td>3.151001</td>\n",
       "      <td>0.787750</td>\n",
       "      <td>0.745761</td>\n",
       "    </tr>\n",
       "    <tr>\n",
       "      <th>9997</th>\n",
       "      <td>2.560436</td>\n",
       "      <td>1.439564</td>\n",
       "      <td>0.359891</td>\n",
       "      <td>0.942593</td>\n",
       "    </tr>\n",
       "    <tr>\n",
       "      <th>9998</th>\n",
       "      <td>3.955348</td>\n",
       "      <td>0.044652</td>\n",
       "      <td>0.011163</td>\n",
       "      <td>0.088408</td>\n",
       "    </tr>\n",
       "    <tr>\n",
       "      <th>9999</th>\n",
       "      <td>0.972154</td>\n",
       "      <td>3.027846</td>\n",
       "      <td>0.756961</td>\n",
       "      <td>0.800057</td>\n",
       "    </tr>\n",
       "  </tbody>\n",
       "</table>\n",
       "<p>10000 rows × 4 columns</p>\n",
       "</div>"
      ],
      "text/plain": [
       "           Red      Blue  Probability of Blue   Entropy\n",
       "0     1.038945  2.961055             0.740264  0.826348\n",
       "1     1.346895  2.653105             0.663276  0.921649\n",
       "2     3.139446  0.860554             0.215138  0.751190\n",
       "3     3.798768  0.201232             0.050308  0.287704\n",
       "4     1.184125  2.815875             0.703969  0.876385\n",
       "...        ...       ...                  ...       ...\n",
       "9995  2.737726  1.262274             0.315568  0.899497\n",
       "9996  0.848999  3.151001             0.787750  0.745761\n",
       "9997  2.560436  1.439564             0.359891  0.942593\n",
       "9998  3.955348  0.044652             0.011163  0.088408\n",
       "9999  0.972154  3.027846             0.756961  0.800057\n",
       "\n",
       "[10000 rows x 4 columns]"
      ]
     },
     "execution_count": 42,
     "metadata": {},
     "output_type": "execute_result"
    }
   ],
   "source": [
    "df = pd.DataFrame({\"Blue\": ent_blue_list, \"Red\": ent_red_list,\"Entropy\": ent_list, \"Probability of Blue\": ent_blue_prob_list})\n",
    "df = df[['Red', 'Blue', 'Probability of Blue', 'Entropy']]\n",
    "df"
   ]
  },
  {
   "cell_type": "code",
   "execution_count": 43,
   "id": "fb432827",
   "metadata": {},
   "outputs": [
    {
     "data": {
      "text/plain": [
       "Text(0.5, 1.0, 'Entropy Curve')"
      ]
     },
     "execution_count": 43,
     "metadata": {},
     "output_type": "execute_result"
    },
    {
     "data": {
      "image/png": "[encoded data removed]",
      "text/plain": [
       "<Figure size 576x396 with 1 Axes>"
      ]
     },
     "metadata": {},
     "output_type": "display_data"
    }
   ],
   "source": [
    "plt.scatter(ent_blue_prob_list,ent_list)\n",
    "plt.xlabel('Probability of Blue Gumball %')\n",
    "plt.ylabel('Entropy')\n",
    "plt.title('Entropy Curve')"
   ]
  },
  {
   "cell_type": "code",
   "execution_count": 44,
   "id": "9bedf649",
   "metadata": {},
   "outputs": [
    {
     "data": {
      "image/png": "[encoded data removed]",
      "text/plain": [
       "<Figure size 576x396 with 1 Axes>"
      ]
     },
     "metadata": {},
     "output_type": "display_data"
    }
   ],
   "source": [
    "\n",
    "fig = plt.figure()\n",
    "ax1 = fig.add_subplot(111)\n",
    "\n",
    "ax1.scatter(blue_prob_list,gini_list, s=5, c='b', marker=\"s\", label='Gini')\n",
    "ax1.scatter(ent_blue_prob_list,ent_list, s=5, c='r', marker=\"o\", label='Entropy')\n",
    "plt.legend(loc='upper left');\n",
    "plt.xlabel('Probability of Blue Gumball %')\n",
    "plt.ylabel('Value')\n",
    "plt.title('Both Curves')\n",
    "plt.show()"
   ]
  },
  {
   "cell_type": "markdown",
   "id": "7164aae8",
   "metadata": {},
   "source": [
    "# Information Gain\n",
    "\n",
    "Information gain is why impurity is so important. Once we derive the impurity of the dataset, we can see how much information is gained as we go down the tree and measure the impurity of the nodes."
   ]
  },
  {
   "cell_type": "markdown",
   "id": "6a845393",
   "metadata": {},
   "source": [
    "In the example below, we are splitting gumball preference by a particular attribute (let’s say size of the gumball). It gives us the parent/child node relationship:"
   ]
  },
  {
   "cell_type": "code",
   "execution_count": 51,
   "id": "bdc48a16",
   "metadata": {},
   "outputs": [
    {
     "data": {
      "text/html": [
       "<img src=\"tree.png\"/>"
      ],
      "text/plain": [
       "<IPython.core.display.Image object>"
      ]
     },
     "execution_count": 51,
     "metadata": {},
     "output_type": "execute_result"
    }
   ],
   "source": [
    "from IPython.display import Image\n",
    "from IPython.core.display import HTML \n",
    "Image(url= \"tree.png\")"
   ]
  },
  {
   "cell_type": "code",
   "execution_count": 45,
   "id": "85fccd48",
   "metadata": {},
   "outputs": [],
   "source": [
    "#Defining Gini info gain function:\n",
    "def gini_info_gain(pa,pb,c1a,c1b,c2a,c2b):\n",
    "    return (gini(pa,pb))-((((c1a+c1b)/(pa+pb))*gini(c1a,c1b)) + (((c2a+c2b)/(pa+pb))*gini(c2a,c2b)))\n"
   ]
  },
  {
   "cell_type": "code",
   "execution_count": 46,
   "id": "4f4ba2ea",
   "metadata": {
    "scrolled": true
   },
   "outputs": [
    {
     "data": {
      "text/plain": [
       "0.1964625850340137"
      ]
     },
     "execution_count": 46,
     "metadata": {},
     "output_type": "execute_result"
    }
   ],
   "source": [
    "#Running Function\n",
    "gini_info_gain(22,13,18,2,4,11)"
   ]
  },
  {
   "cell_type": "markdown",
   "id": "c9a23d2e",
   "metadata": {},
   "source": [
    "= 0.196 Gini Information gain\n",
    "\n",
    "0.196/0.467 = 41.97% Gain"
   ]
  },
  {
   "cell_type": "code",
   "execution_count": 47,
   "id": "7daeecdf",
   "metadata": {},
   "outputs": [],
   "source": [
    "#Defining Entropy info gain function:\n",
    "def entropy_info_gain(base,pa,pb,c1a,c1b,c2a,c2b):\n",
    "    return (entropy(base,pa,pb))-((((c1a+c1b)/(pa+pb))*entropy(base,c1a,c1b)) + (((c2a+c2b)/(pa+pb))*entropy(base,c2a,c2b)))\n",
    "\n"
   ]
  },
  {
   "cell_type": "code",
   "execution_count": 48,
   "id": "22b194cb",
   "metadata": {},
   "outputs": [
    {
     "data": {
      "text/plain": [
       "0.3252048756090272"
      ]
     },
     "execution_count": 48,
     "metadata": {},
     "output_type": "execute_result"
    }
   ],
   "source": [
    "#Running Function\n",
    "entropy_info_gain(2,22,13,18,2,4,11)"
   ]
  },
  {
   "cell_type": "code",
   "execution_count": null,
   "id": "eca82602",
   "metadata": {},
   "outputs": [],
   "source": []
  }
 ],
 "metadata": {
  "kernelspec": {
   "display_name": "Python 3 (ipykernel)",
   "language": "python",
   "name": "python3"
  },
  "language_info": {
   "codemirror_mode": {
    "name": "ipython",
    "version": 3
   },
   "file_extension": ".py",
   "mimetype": "text/x-python",
   "name": "python",
   "nbconvert_exporter": "python",
   "pygments_lexer": "ipython3",
   "version": "3.9.7"
  }
 },
 "nbformat": 4,
 "nbformat_minor": 5
}
